{
 "cells": [
  {
   "cell_type": "code",
   "execution_count": 4,
   "id": "e07bee7c",
   "metadata": {},
   "outputs": [
    {
     "data": {
      "text/html": [
       "\n",
       "        <iframe\n",
       "            width=\"100%\"\n",
       "            height=\"650\"\n",
       "            src=\"http://127.0.0.1:8050/\"\n",
       "            frameborder=\"0\"\n",
       "            allowfullscreen\n",
       "            \n",
       "        ></iframe>\n",
       "        "
      ],
      "text/plain": [
       "<IPython.lib.display.IFrame at 0x28ed69951f0>"
      ]
     },
     "metadata": {},
     "output_type": "display_data"
    }
   ],
   "source": [
    "import dash\n",
    "from dash import dcc, html, Input, Output\n",
    "import pandas as pd\n",
    "import plotly.express as px\n",
    "\n",
    "# Load your data\n",
    "df = pd.read_csv('../data/scenarios-local-interpretation.csv')\n",
    "\n",
    "# Scenario options (add 1 for display)\n",
    "scenarios = df['instance'].unique()\n",
    "scenario_options = [\n",
    "    {\"label\": f\"Scenario {i+1}\", \"value\": i} for i in scenarios\n",
    "]\n",
    "\n",
    "app = dash.Dash(__name__)\n",
    "\n",
    "app.layout = html.Div([\n",
    "    html.H1(\"Local Interpretation\"),\n",
    "    dcc.Dropdown(\n",
    "        id=\"scenario-dropdown\",\n",
    "        options=scenario_options,\n",
    "        value=scenarios[0],  # default first scenario\n",
    "        style={\"width\": \"50%\"}\n",
    "    ),\n",
    "    html.Div(id=\"scenario-info\"),\n",
    "    dcc.Graph(id=\"factor-bar-chart\")\n",
    "])\n",
    "\n",
    "@app.callback(\n",
    "    Output(\"factor-bar-chart\", \"figure\"),\n",
    "    Output(\"scenario-info\", \"children\"),\n",
    "    Input(\"scenario-dropdown\", \"value\")\n",
    ")\n",
    "def update_chart(scenario_id):\n",
    "    data = df[df['instance'] == scenario_id].copy()\n",
    "    data = data.sort_values(\"score\", ascending=False)\n",
    "    # Create label for legend and color\n",
    "    data['ScoreType'] = data['score'].apply(lambda x: 'Protective' if x < 0 else 'Risk')\n",
    "    color_discrete_map = {'Protective': 'yellowgreen', 'Risk': 'orchid'}\n",
    "    fig = px.bar(\n",
    "        data,\n",
    "        x=\"score\",\n",
    "        y=\"feature\",\n",
    "        orientation=\"h\",\n",
    "        text=\"value_label\",\n",
    "        color=\"ScoreType\",\n",
    "        color_discrete_map=color_discrete_map,\n",
    "        labels={\"score\": \"Weighting\", \"feature\": \"Factors\", \"ScoreType\": \"Type\"},\n",
    "        title=f\"Top Influential Factors for Scenario {scenario_id+1}\"\n",
    "    )\n",
    "    fig.update_layout(\n",
    "        yaxis={'categoryorder':'total ascending'},\n",
    "        legend_title=\"Type\",\n",
    "        xaxis_title=\"Impact\",\n",
    "        yaxis_title=\"Factors\",\n",
    "        template=\"simple_white\",\n",
    "        width=1100,\n",
    "        height=600\n",
    "    )\n",
    "    fig.update_traces(textposition='auto')\n",
    "    info = html.Div([\n",
    "        html.P(f\"Scenario {scenario_id+1}\")\n",
    "    ])\n",
    "    return fig, info\n",
    "\n",
    "\n",
    "\n",
    "if __name__ == \"__main__\":\n",
    "    app.run_server(debug=True)\n"
   ]
  }
 ],
 "metadata": {
  "kernelspec": {
   "display_name": "Python 3",
   "language": "python",
   "name": "python3"
  },
  "language_info": {
   "codemirror_mode": {
    "name": "ipython",
    "version": 3
   },
   "file_extension": ".py",
   "mimetype": "text/x-python",
   "name": "python",
   "nbconvert_exporter": "python",
   "pygments_lexer": "ipython3",
   "version": "3.12.3"
  }
 },
 "nbformat": 4,
 "nbformat_minor": 5
}
